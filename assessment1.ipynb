{
 "cells": [
  {
   "cell_type": "markdown",
   "id": "d9cc5dde",
   "metadata": {},
   "source": [
    "# Assessment 1"
   ]
  },
  {
   "cell_type": "markdown",
   "id": "1e2a688f",
   "metadata": {},
   "source": [
    "## Data Types"
   ]
  },
  {
   "cell_type": "markdown",
   "id": "e14f60aa",
   "metadata": {},
   "source": [
    "#### Que 1.\tHow do lists and tuples differ in terms of mutability and performance? When would you choose one over the other?"
   ]
  },
  {
   "cell_type": "markdown",
   "id": "26111fcd",
   "metadata": {},
   "source": [
    "first of all list and tuple both are ordered and in terms of mutability list is muttable i.e. changes in the elements of the list can be made after creation of list whereas changes in tuples can't be done after the creation because tuples are immuttable .\n",
    "\n",
    "and in terms of performance , tuples are slightly faster then the list because of the immutability and lists are slower due to additional methods like addition and removal of elements.\n",
    "\n",
    "and in terms of choosing , it depend on the on data like if we using data that is not going to change (e.g days of the week) then we prefer tuple and there is data which is needed to be change then we prefer list (e.g. shoppping carts)"
   ]
  },
  {
   "cell_type": "markdown",
   "id": "dbb7eba1",
   "metadata": {},
   "source": [
    "#### Q2: Explain how Python handles type conversion between different data types, such as between integers and floats or between strings and lists."
   ]
  },
  {
   "cell_type": "markdown",
   "id": "5b9929a4",
   "metadata": {},
   "source": [
    "there are two types of conversion in python -> 1. Explicit and 2. Implicit\n",
    "1. Explicit -> in this python automatically converts the compatible types"
   ]
  },
  {
   "cell_type": "code",
   "execution_count": 3,
   "id": "41317492",
   "metadata": {},
   "outputs": [
    {
     "name": "stdout",
     "output_type": "stream",
     "text": [
      "<class 'float'> 8.2\n"
     ]
    }
   ],
   "source": [
    "# implicit\n",
    "a=5\n",
    "b=3.2\n",
    "print(type(a+b),a+b)  # Implicit conversion of int to float"
   ]
  },
  {
   "cell_type": "markdown",
   "id": "c6740f6a",
   "metadata": {},
   "source": [
    "2. explicit -> in this we manually convert types using functions like int(),float(),list(),etc."
   ]
  },
  {
   "cell_type": "code",
   "execution_count": 9,
   "id": "d7c3e35b",
   "metadata": {},
   "outputs": [
    {
     "name": "stdout",
     "output_type": "stream",
     "text": [
      "<class 'int'> 123\n",
      "<class 'tuple'> (1, 2, 3)\n"
     ]
    }
   ],
   "source": [
    "# explicit\n",
    "a = \"123\"\n",
    "b = int(a)  # string to int\n",
    "print(type(b), b)  # Explicit conversion of string to int\n",
    "\n",
    "c = [1, 2, 3]\n",
    "d = tuple(c)# list to tuple\n",
    "print(type(d), d)  # Explicit conversion of list to tuple\n"
   ]
  },
  {
   "cell_type": "markdown",
   "id": "e0e319c2",
   "metadata": {},
   "source": [
    "#### Q3: What are the key differences between Python’s list, set, and dictionary data types?"
   ]
  },
  {
   "cell_type": "markdown",
   "id": "0415fdf0",
   "metadata": {},
   "source": [
    "Feature\t   |  List\t    |    Set\t      |   Dictionary\n",
    "\n",
    "Ordered\t   | Yes        |    No\t          |       Yes\n",
    "\n",
    "Duplicates | Allowed\t|    Not allowed  |\tKeys must be unique\n",
    "\n",
    "Indexing   | Allowed\t|    Not allowed  |\tKeys used to access values\n",
    "\n",
    "Use-case   | Ordered    | Unique elements |\tKey-value mapping\n",
    "           | collection |"
   ]
  },
  {
   "cell_type": "markdown",
   "id": "1a9b33c6",
   "metadata": {},
   "source": [
    "#### Q4: Discuss the role of the __repr__ and __str__ methods in custom data types."
   ]
  },
  {
   "cell_type": "markdown",
   "id": "4172edc6",
   "metadata": {},
   "source": [
    "__str__: For readable output, used by print() and str().\n",
    "\n",
    "__repr__: For debugging, used by repr() or in console outputs. Should return a string that can ideally recreate the object."
   ]
  },
  {
   "cell_type": "code",
   "execution_count": 11,
   "id": "c47e9f78",
   "metadata": {},
   "outputs": [
    {
     "name": "stdout",
     "output_type": "stream",
     "text": [
      "Person with name Alice\n",
      "Person with name('Alice')\n"
     ]
    }
   ],
   "source": [
    "class Person:\n",
    "    def __init__(self, name):\n",
    "        self.name = name\n",
    "\n",
    "    def __str__(self):\n",
    "        return f\"Person with name {self.name}\"\n",
    "\n",
    "    def __repr__(self):\n",
    "        return f\"Person with name('{self.name}')\"\n",
    "\n",
    "p = Person(\"Alice\")\n",
    "print(p)         # Uses __str__\n",
    "print(repr(p))   # Uses __repr__\n"
   ]
  },
  {
   "cell_type": "markdown",
   "id": "307c30a5",
   "metadata": {},
   "source": [
    "#### Q5: How does Python handle large integers? Difference between int in Python 2 and Python 3?"
   ]
  },
  {
   "cell_type": "markdown",
   "id": "d989a849",
   "metadata": {},
   "source": [
    "Python 3 :\n",
    "In Python 3, all integers are of type int, and they support arbitrary precision by default.\n",
    "\n",
    "This means you can store and calculate with very large integers without worrying about overflow"
   ]
  },
  {
   "cell_type": "code",
   "execution_count": 12,
   "id": "eeac0d00",
   "metadata": {},
   "outputs": [
    {
     "name": "stdout",
     "output_type": "stream",
     "text": [
      "10000000000000000000000000000000000000000000000000000000000000000000000000000000000000000000000000000\n",
      "<class 'int'>\n"
     ]
    }
   ],
   "source": [
    "x = 10**100  # A 101-digit number\n",
    "print(x)\n",
    "print(type(x))  # Output: <class 'int'>\n"
   ]
  },
  {
   "cell_type": "markdown",
   "id": "f9e198ac",
   "metadata": {},
   "source": [
    "Python 2 (Older version, now outdated)\n",
    "Python 2 had two integer types:\n",
    "\n",
    "int – a fixed-size integer (typically 32 or 64 bits depending on your system).\n",
    "\n",
    "long – an integer with arbitrary precision, denoted with an L suffix (e.g., 1234567890L)"
   ]
  },
  {
   "cell_type": "code",
   "execution_count": 14,
   "id": "b9853f58",
   "metadata": {},
   "outputs": [
    {
     "ename": "SyntaxError",
     "evalue": "invalid decimal literal (2910224883.py, line 2)",
     "output_type": "error",
     "traceback": [
      "  \u001b[36mCell\u001b[39m\u001b[36m \u001b[39m\u001b[32mIn[14]\u001b[39m\u001b[32m, line 2\u001b[39m\n\u001b[31m    \u001b[39m\u001b[31my = 10**100L  # this will give error because it is used in python 2\u001b[39m\n              ^\n\u001b[31mSyntaxError\u001b[39m\u001b[31m:\u001b[39m invalid decimal literal\n"
     ]
    }
   ],
   "source": [
    "x = 10**10       \n",
    "y = 10**100L  # this will give error because it is used in python 2 \n",
    "#but in python 2, it is used to represent long integers     \n",
    "print type(x), type(y)\n"
   ]
  },
  {
   "cell_type": "markdown",
   "id": "7f46b10b",
   "metadata": {},
   "source": [
    "## Operators"
   ]
  },
  {
   "cell_type": "markdown",
   "id": "abd39ed9",
   "metadata": {},
   "source": [
    "#### Q1: What is the difference between += and + when used with mutable and immutable types?"
   ]
  },
  {
   "cell_type": "markdown",
   "id": "f06c5a72",
   "metadata": {},
   "source": [
    "+ creates a new object, even for mutable types.\n",
    "\n",
    "+= modifies the object in-place (if it's mutable) or creates a new object (if immutable)."
   ]
  },
  {
   "cell_type": "code",
   "execution_count": 15,
   "id": "ef70b986",
   "metadata": {},
   "outputs": [
    {
     "name": "stdout",
     "output_type": "stream",
     "text": [
      "Hi there Hi\n",
      "[1, 2, 3] [1, 2, 3]\n"
     ]
    }
   ],
   "source": [
    "a = \"Hi\"\n",
    "b = a\n",
    "a += \" there\"\n",
    "print(a, b)  # 'Hi there', 'Hi' (new object created)\n",
    "\n",
    "# Mutable (list)\n",
    "lst = [1, 2]\n",
    "ref = lst\n",
    "lst += [3]\n",
    "print(lst, ref)  # Both show [1, 2, 3] (modified in-place)\n"
   ]
  },
  {
   "cell_type": "markdown",
   "id": "0ab3e2c5",
   "metadata": {},
   "source": [
    "#### Q2: Explain the purpose and use of the in operator in Python.\n"
   ]
  },
  {
   "cell_type": "markdown",
   "id": "4c175fab",
   "metadata": {},
   "source": [
    "checks if a value exists in a sequence or collection"
   ]
  },
  {
   "cell_type": "code",
   "execution_count": 17,
   "id": "d76df61d",
   "metadata": {},
   "outputs": [
    {
     "name": "stdout",
     "output_type": "stream",
     "text": [
      "True\n",
      "True\n",
      "False\n"
     ]
    }
   ],
   "source": [
    "text=\"apple\"\n",
    "lst=[1,2,3]\n",
    "print('a' in text)  # True\n",
    "print(2 in lst)  # True\n",
    "print('x' in text)  # False\n"
   ]
  },
  {
   "cell_type": "markdown",
   "id": "46313e19",
   "metadata": {},
   "source": [
    "### Q3: How do the bitwise operators work in Python?\n"
   ]
  },
  {
   "cell_type": "markdown",
   "id": "42151bd7",
   "metadata": {},
   "source": [
    "& (AND): 1 if both bits are 1\n",
    "\n",
    "| (OR): 1 if at least one bit is 1\n",
    "\n",
    "^ (XOR): 1 if bits are different\n",
    "\n",
    "~ (NOT): flips all bits\n",
    "\n",
    "<< (Left shift): multiplies by 2^n\n",
    "\n",
    ">> (Right shift): divides by 2^n"
   ]
  },
  {
   "cell_type": "code",
   "execution_count": 18,
   "id": "a6b5c4f1",
   "metadata": {},
   "outputs": [
    {
     "name": "stdout",
     "output_type": "stream",
     "text": [
      "1\n",
      "7\n",
      "6\n",
      "-6\n",
      "10\n",
      "2\n"
     ]
    }
   ],
   "source": [
    "a = 5      \n",
    "b = 3    \n",
    "\n",
    "print(a & b)  \n",
    "print(a | b)  \n",
    "print(a ^ b)  \n",
    "print(~a)     \n",
    "print(a << 1) \n",
    "print(a >> 1) \n"
   ]
  },
  {
   "cell_type": "markdown",
   "id": "c3e51ec1",
   "metadata": {},
   "source": [
    "### Q4: What are augmented assignment operators?\n"
   ]
  },
  {
   "cell_type": "markdown",
   "id": "0bbb0f00",
   "metadata": {},
   "source": [
    "Combine an operator with assignment in one step:\n",
    "\n",
    "+= (add and assign)\n",
    "\n",
    "-= (subtract and assign)\n",
    "\n",
    "*= (multiply and assign)\n",
    "\n",
    "/=, //=, %=, **=, etc."
   ]
  },
  {
   "cell_type": "code",
   "execution_count": 20,
   "id": "1c2b5e22",
   "metadata": {},
   "outputs": [
    {
     "name": "stdout",
     "output_type": "stream",
     "text": [
      "15\n",
      "20\n",
      "8\n"
     ]
    }
   ],
   "source": [
    "# Augmented assignment operators\n",
    "y=10\n",
    "y += 5  \n",
    "print(y)\n",
    "z=10\n",
    "z *= 2\n",
    "print(z)\n",
    "a=10\n",
    "a -= 2\n",
    "print(a)\n"
   ]
  },
  {
   "cell_type": "markdown",
   "id": "19bb8175",
   "metadata": {},
   "source": [
    "### Q5: How does Python’s is operator differ from ==?\n"
   ]
  },
  {
   "cell_type": "code",
   "execution_count": null,
   "id": "e88a660c",
   "metadata": {},
   "outputs": [
    {
     "name": "stdout",
     "output_type": "stream",
     "text": [
      "True\n",
      "False\n"
     ]
    }
   ],
   "source": [
    "a = [1, 2, 3]\n",
    "b = a\n",
    "c = [1, 2, 3]\n",
    "\n",
    "print(a == c)  # True (same contents)\n",
    "print(a is c)  # False (different objects)\n",
    "print(a is b)  # True (same object)\n"
   ]
  }
 ],
 "metadata": {
  "kernelspec": {
   "display_name": "Python 3",
   "language": "python",
   "name": "python3"
  },
  "language_info": {
   "codemirror_mode": {
    "name": "ipython",
    "version": 3
   },
   "file_extension": ".py",
   "mimetype": "text/x-python",
   "name": "python",
   "nbconvert_exporter": "python",
   "pygments_lexer": "ipython3",
   "version": "3.11.9"
  }
 },
 "nbformat": 4,
 "nbformat_minor": 5
}
