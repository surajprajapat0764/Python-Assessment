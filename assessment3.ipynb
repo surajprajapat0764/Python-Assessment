{
 "cells": [
  {
   "cell_type": "markdown",
   "id": "28355614",
   "metadata": {},
   "source": [
    "### 1. What are list comprehensions in Python, and how do they differ from traditional for loops in terms of syntax and performance?\n",
    "\n",
    "List comprehensions provide a concise way to create lists in Python. They are more readable and generally faster than traditional for loops because they are optimized internally.\n",
    "\n",
    "**Syntax difference:**\n",
    "- Traditional loop:\n",
    "  ```python\n",
    "  squares = []\n",
    "  for i in range(10):\n",
    "      squares.append(i ** 2)\n",
    "  ```\n",
    "\n",
    "- List comprehension:\n",
    "  ```python\n",
    "  squares = [i ** 2 for i in range(10)]\n",
    "  ```\n"
   ]
  },
  {
   "cell_type": "code",
   "execution_count": 1,
   "id": "51f6237e",
   "metadata": {},
   "outputs": [
    {
     "name": "stdout",
     "output_type": "stream",
     "text": [
      "[0, 1, 4, 9, 16, 25, 36, 49, 64, 81]\n"
     ]
    }
   ],
   "source": [
    "squares = [i ** 2 for i in range(10)]\n",
    "print(squares)"
   ]
  },
  {
   "cell_type": "markdown",
   "id": "143ceef9",
   "metadata": {},
   "source": [
    "### 2. How can you include conditional statements within a list comprehension?\n",
    "\n",
    "We can add an `if` clause at the end of a list comprehension to include only the elements that satisfy a condition.\n",
    "\n",
    "**Example:**\n",
    "```python\n",
    "even_numbers = [x for x in range(1, 51) if x % 2 == 0]\n",
    "```"
   ]
  },
  {
   "cell_type": "code",
   "execution_count": 2,
   "id": "cfd46d9d",
   "metadata": {},
   "outputs": [
    {
     "name": "stdout",
     "output_type": "stream",
     "text": [
      "[2, 4, 6, 8, 10, 12, 14, 16, 18, 20, 22, 24, 26, 28, 30, 32, 34, 36, 38, 40, 42, 44, 46, 48, 50]\n"
     ]
    }
   ],
   "source": [
    "even_numbers = [x for x in range(1, 51) if x % 2 == 0]\n",
    "print(even_numbers)"
   ]
  },
  {
   "cell_type": "markdown",
   "id": "e6065596",
   "metadata": {},
   "source": [
    "### 3. Explain the difference between if and if-else conditions in list comprehensions.\n",
    "\n",
    "- `if` condition is used for filtering elements.\n",
    "- `if-else` condition is used for choosing between two values for each element.\n",
    "\n",
    "**Example (replace negative numbers with 0):**\n",
    "```python\n",
    "[x if x >= 0 else 0 for x in numbers]\n",
    "```"
   ]
  },
  {
   "cell_type": "code",
   "execution_count": 3,
   "id": "c4f9caca",
   "metadata": {},
   "outputs": [
    {
     "name": "stdout",
     "output_type": "stream",
     "text": [
      "[5, 0, 9, 0, 0, 0]\n"
     ]
    }
   ],
   "source": [
    "numbers = [5, -3, 9, -1, 0, -7]\n",
    "replaced = [x if x >= 0 else 0 for x in numbers]\n",
    "print(replaced)"
   ]
  },
  {
   "cell_type": "markdown",
   "id": "011090e8",
   "metadata": {},
   "source": [
    "### 4. How can you use nested list comprehensions to flatten a 2D list into a 1D list?\n",
    "\n",
    "We can nest a loop inside a list comprehension.\n",
    "\n",
    "**Example:**\n",
    "```python\n",
    "flattened = [item for sublist in matrix for item in sublist]\n",
    "```"
   ]
  },
  {
   "cell_type": "code",
   "execution_count": 4,
   "id": "6657822e",
   "metadata": {},
   "outputs": [
    {
     "name": "stdout",
     "output_type": "stream",
     "text": [
      "[1, 2, 3, 4, 5, 6, 7, 8, 9]\n"
     ]
    }
   ],
   "source": [
    "matrix = [[1, 2, 3], [4, 5, 6], [7, 8, 9]]\n",
    "flattened = [item for sublist in matrix for item in sublist]\n",
    "print(flattened)"
   ]
  },
  {
   "cell_type": "markdown",
   "id": "507cd725",
   "metadata": {},
   "source": [
    "### 5. What are the limitations of list comprehensions in terms of readability and complexity?\n",
    "\n",
    "List comprehensions can become hard to read if they are too long or include nested loops and conditions. In such cases, traditional loops improve clarity.\n",
    "\n",
    "**Rewriting for better readability:**"
   ]
  },
  {
   "cell_type": "code",
   "execution_count": 5,
   "id": "344d2d05",
   "metadata": {},
   "outputs": [
    {
     "name": "stdout",
     "output_type": "stream",
     "text": [
      "[2, 4, 6, 8, 2, 4, 6, 8, 10, 12, 14, 16, 18, 6, 12, 18, 24, 4, 8, 12, 16, 20, 24, 28, 32, 36, 10, 20, 30, 40, 6, 12, 18, 24, 30, 36, 42, 48, 54, 14, 28, 42, 56, 8, 16, 24, 32, 40, 48, 56, 64, 72, 18, 36, 54, 72]\n"
     ]
    }
   ],
   "source": [
    "result = []\n",
    "for x in range(1, 10):\n",
    "    for y in range(1, 10):\n",
    "        if x*y%2==0:\n",
    "            result.append(x * y)\n",
    "print(result)"
   ]
  },
  {
   "cell_type": "markdown",
   "id": "742bf8ea",
   "metadata": {},
   "source": [
    "### 6. How can you use list comprehensions with functions?\n",
    "\n",
    "We can call a function inside a list comprehension.\n",
    "\n",
    "**Example (using `abs()`):**\n",
    "```python\n",
    "[abs(x) for x in numbers]\n",
    "```"
   ]
  },
  {
   "cell_type": "code",
   "execution_count": 6,
   "id": "f481cced",
   "metadata": {},
   "outputs": [
    {
     "name": "stdout",
     "output_type": "stream",
     "text": [
      "[10, 5, 0, 5, 10]\n"
     ]
    }
   ],
   "source": [
    "numbers = [-10, -5, 0, 5, 10]\n",
    "absolute_values = [abs(x) for x in numbers]\n",
    "print(absolute_values)"
   ]
  },
  {
   "cell_type": "markdown",
   "id": "b621eb72",
   "metadata": {},
   "source": [
    "### 7. How do list comprehensions handle the scope of variables?\n",
    "\n",
    "Variables defined inside a list comprehension do not affect variables outside, but if you reuse a variable name, it can unintentionally shadow outer variables.\n",
    "\n",
    "**Example:**"
   ]
  },
  {
   "cell_type": "code",
   "execution_count": 7,
   "id": "0737234c",
   "metadata": {},
   "outputs": [
    {
     "name": "stdout",
     "output_type": "stream",
     "text": [
      "x outside: 100\n",
      "squares: [0, 1, 4, 9, 16]\n"
     ]
    }
   ],
   "source": [
    "x = 100\n",
    "squares = [x ** 2 for x in range(5)]  # This x is local to the comprehension\n",
    "print(\"x outside:\", x)  # Still 100\n",
    "print(\"squares:\", squares)"
   ]
  },
  {
   "cell_type": "markdown",
   "id": "e7a75625",
   "metadata": {},
   "source": [
    "### 8. What are the differences between list comprehensions and generator expressions?\n",
    "\n",
    "- List comprehensions return a full list in memory.\n",
    "- Generator expressions return an iterator and are more memory efficient.\n",
    "\n",
    "**Convert list comprehension to generator expression:**"
   ]
  },
  {
   "cell_type": "code",
   "execution_count": 8,
   "id": "e236b0f5",
   "metadata": {},
   "outputs": [
    {
     "name": "stdout",
     "output_type": "stream",
     "text": [
      "[0, 3, 6, 9, 12, 15, 18, 21, 24, 27, 30, 33, 36, 39, 42, 45, 48, 51, 54, 57, 60, 63, 66, 69, 72, 75, 78, 81, 84, 87, 90, 93, 96, 99]\n"
     ]
    }
   ],
   "source": [
    "multiples_of_three = (x for x in range(100) if x % 3 == 0)\n",
    "print(list(multiples_of_three))"
   ]
  },
  {
   "cell_type": "markdown",
   "id": "9dc86186",
   "metadata": {},
   "source": [
    "### 9. How can you use a list comprehension to filter and transform data in one step?\n",
    "\n",
    "We can include both a transformation and a filter in a single list comprehension.\n",
    "\n",
    "**Example (square only integers):**\n",
    "```python\n",
    "[x ** 2 for x in mixed_list if isinstance(x, int)]\n",
    "```"
   ]
  },
  {
   "cell_type": "code",
   "execution_count": 9,
   "id": "4e8be3e6",
   "metadata": {},
   "outputs": [
    {
     "name": "stdout",
     "output_type": "stream",
     "text": [
      "[1, 9, 25]\n"
     ]
    }
   ],
   "source": [
    "mixed_list = [1, 'a', 3, 'hello', 5]\n",
    "squares_of_ints = [x ** 2 for x in mixed_list if isinstance(x, int)]\n",
    "print(squares_of_ints)"
   ]
  },
  {
   "cell_type": "markdown",
   "id": "055d5f83",
   "metadata": {},
   "source": [
    "### 10. Can you create a dictionary or set using comprehension syntax in Python?\n",
    "\n",
    "Yes, We can use `{}` with appropriate syntax.\n",
    "\n",
    "- Dictionary: `{key: value for item in iterable}`\n",
    "- Set: `{expression for item in iterable}`\n",
    "\n",
    "**Example (string to ASCII):**\n",
    "```python\n",
    "{char: ord(char) for char in \"hello\"}\n",
    "```"
   ]
  },
  {
   "cell_type": "code",
   "execution_count": 10,
   "id": "a1acb8db",
   "metadata": {},
   "outputs": [
    {
     "name": "stdout",
     "output_type": "stream",
     "text": [
      "{'h': 104, 'e': 101, 'l': 108, 'o': 111}\n"
     ]
    }
   ],
   "source": [
    "text = \"hello\"\n",
    "ascii_map = {char: ord(char) for char in text}\n",
    "print(ascii_map)"
   ]
  }
 ],
 "metadata": {
  "kernelspec": {
   "display_name": "Python 3",
   "language": "python",
   "name": "python3"
  },
  "language_info": {
   "codemirror_mode": {
    "name": "ipython",
    "version": 3
   },
   "file_extension": ".py",
   "mimetype": "text/x-python",
   "name": "python",
   "nbconvert_exporter": "python",
   "pygments_lexer": "ipython3",
   "version": "3.11.9"
  }
 },
 "nbformat": 4,
 "nbformat_minor": 5
}
