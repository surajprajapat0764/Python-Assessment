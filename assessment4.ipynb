{
 "cells": [
  {
   "cell_type": "markdown",
   "id": "b46fa1ab",
   "metadata": {},
   "source": [
    "# Assignment 4"
   ]
  },
  {
   "cell_type": "markdown",
   "id": "f152b554",
   "metadata": {},
   "source": [
    "### 1. What are default arguments in Python functions?\n",
    "\n",
    "Default arguments are parameters that assume a default value if no value is provided during function call. Required arguments must be provided.\n",
    "\n",
    "**Behavior with None:** If we pass `None`, it overrides the default.\n",
    "\n",
    "**Example:**"
   ]
  },
  {
   "cell_type": "code",
   "execution_count": 1,
   "id": "37a59239",
   "metadata": {},
   "outputs": [
    {
     "name": "stdout",
     "output_type": "stream",
     "text": [
      "Hello, Ajay!\n",
      "Hi, Banu!\n",
      "None, Chetanya!\n"
     ]
    }
   ],
   "source": [
    "def greet(name, message=\"Hello\"):\n",
    "    return f\"{message}, {name}!\"\n",
    "\n",
    "print(greet(\"Ajay\"))\n",
    "print(greet(\"Banu\", \"Hi\"))\n",
    "print(greet(\"Chetanya\", None))"
   ]
  },
  {
   "cell_type": "markdown",
   "id": "6450e4fb",
   "metadata": {},
   "source": [
    "### 2. Explain `*args` and `**kwargs`\n",
    "\n",
    "- `*args` allows us to pass a variable number of positional arguments.\n",
    "- `**kwargs` allows us to pass keyword arguments.\n",
    "\n",
    "**Example:**"
   ]
  },
  {
   "cell_type": "code",
   "execution_count": 2,
   "id": "f6fa7663",
   "metadata": {},
   "outputs": [
    {
     "name": "stdout",
     "output_type": "stream",
     "text": [
      "6\n",
      "36\n",
      "-6\n"
     ]
    }
   ],
   "source": [
    "def summarize(*args, **kwargs):\n",
    "    total = sum(args)\n",
    "    if kwargs.get('square'):\n",
    "        total = total ** 2\n",
    "    if kwargs.get('negate'):\n",
    "        total = -total\n",
    "    return total\n",
    "\n",
    "print(summarize(1, 2, 3))\n",
    "print(summarize(1, 2, 3, square=True))\n",
    "print(summarize(1, 2, 3, negate=True))"
   ]
  },
  {
   "cell_type": "markdown",
   "id": "8d4173ba",
   "metadata": {},
   "source": [
    "### 3. Pass-by-value vs. Pass-by-reference\n",
    "\n",
    "Python uses pass-by-object-reference. Mutable objects like lists can be changed inside functions.\n",
    "\n",
    "**Example:**"
   ]
  },
  {
   "cell_type": "code",
   "execution_count": 3,
   "id": "5c8e0b97",
   "metadata": {},
   "outputs": [
    {
     "name": "stdout",
     "output_type": "stream",
     "text": [
      "[1, 2, 3, 100]\n"
     ]
    }
   ],
   "source": [
    "def modify_list(my_list):\n",
    "    my_list.append(100)\n",
    "\n",
    "original_list = [1, 2, 3]\n",
    "modify_list(original_list)\n",
    "print(original_list)"
   ]
  },
  {
   "cell_type": "markdown",
   "id": "992529dd",
   "metadata": {},
   "source": [
    "### 4. How do decorators work?\n",
    "\n",
    "Decorators are functions that wrap other functions to modify their behavior.\n",
    "\n",
    "**Example of timing decorator:**"
   ]
  },
  {
   "cell_type": "code",
   "execution_count": 4,
   "id": "4796b820",
   "metadata": {},
   "outputs": [
    {
     "name": "stdout",
     "output_type": "stream",
     "text": [
      "Execution time: 1.00059s\n",
      "Done\n"
     ]
    }
   ],
   "source": [
    "import time\n",
    "\n",
    "def timing(func):\n",
    "    def wrapper(*args, **kwargs):\n",
    "        start = time.time()\n",
    "        result = func(*args, **kwargs)\n",
    "        end = time.time()\n",
    "        print(f\"Execution time: {end - start:.5f}s\")\n",
    "        return result\n",
    "    return wrapper\n",
    "\n",
    "@timing\n",
    "def slow_function():\n",
    "    time.sleep(1)\n",
    "    return \"Done\"\n",
    "\n",
    "print(slow_function())"
   ]
  },
  {
   "cell_type": "markdown",
   "id": "8a069b05",
   "metadata": {},
   "source": [
    "### 5. What are generators?\n",
    "\n",
    "Generators are functions that return an iterator using `yield`. They are more memory-efficient than returning a list.\n",
    "\n",
    "**Example:**"
   ]
  },
  {
   "cell_type": "code",
   "execution_count": 5,
   "id": "557d79ff",
   "metadata": {},
   "outputs": [
    {
     "name": "stdout",
     "output_type": "stream",
     "text": [
      "5\n",
      "4\n",
      "3\n",
      "2\n",
      "1\n"
     ]
    }
   ],
   "source": [
    "def countdown(n):\n",
    "    while n > 0:\n",
    "        yield n\n",
    "        n -= 1\n",
    "\n",
    "for num in countdown(5):\n",
    "    print(num)"
   ]
  },
  {
   "cell_type": "markdown",
   "id": "442008da",
   "metadata": {},
   "source": [
    "### 6. Role of `yield` vs `return`\n",
    "\n",
    "- `yield` pauses function and maintains state.\n",
    "- `return` exits the function.\n",
    "\n",
    "**Fibonacci Generator:**"
   ]
  },
  {
   "cell_type": "code",
   "execution_count": 6,
   "id": "7b4720cf",
   "metadata": {},
   "outputs": [
    {
     "name": "stdout",
     "output_type": "stream",
     "text": [
      "0\n",
      "1\n",
      "1\n",
      "2\n",
      "3\n",
      "5\n",
      "8\n",
      "13\n",
      "21\n",
      "34\n"
     ]
    }
   ],
   "source": [
    "def fibonacci():\n",
    "    a, b = 0, 1\n",
    "    while True:\n",
    "        yield a\n",
    "        a, b = b, a + b\n",
    "\n",
    "gen = fibonacci()\n",
    "for _ in range(10):\n",
    "    print(next(gen))"
   ]
  },
  {
   "cell_type": "markdown",
   "id": "bbacd049",
   "metadata": {},
   "source": [
    "### 7. Generators for large datasets\n",
    "\n",
    "Generators avoid loading entire data in memory.\n",
    "\n",
    "**Example:**"
   ]
  },
  {
   "cell_type": "code",
   "execution_count": 7,
   "id": "36c6274b",
   "metadata": {},
   "outputs": [],
   "source": [
    "def file_reader(file_name):\n",
    "    with open(file_name, 'r') as file:\n",
    "        for line in file:\n",
    "            yield line.strip()\n",
    "\n",
    "# Example usage (commented out):\n",
    "# for line in file_reader(\"large_file.txt\"):\n",
    "#     print(line)"
   ]
  },
  {
   "cell_type": "markdown",
   "id": "23f8f080",
   "metadata": {},
   "source": [
    "### 8. Generator expressions vs List comprehensions\n",
    "\n",
    "- Generator expressions use `()` and are memory-efficient.\n",
    "- List comprehensions use `[]`.\n",
    "\n",
    "**Example:**"
   ]
  },
  {
   "cell_type": "code",
   "execution_count": 8,
   "id": "2a8853df",
   "metadata": {},
   "outputs": [
    {
     "name": "stdout",
     "output_type": "stream",
     "text": [
      "0 1\n"
     ]
    }
   ],
   "source": [
    "squares = (x ** 2 for x in range(1000000))\n",
    "print(next(squares), next(squares))"
   ]
  },
  {
   "cell_type": "markdown",
   "id": "913fbd66",
   "metadata": {},
   "source": [
    "### 9. What are lambda functions?\n",
    "\n",
    "Anonymous one-line functions. Used in simple, short-term scenarios.\n",
    "\n",
    "**Limitations:** Single expression only, no statements.\n",
    "\n",
    "**Example:**"
   ]
  },
  {
   "cell_type": "code",
   "execution_count": 9,
   "id": "f4e9a420",
   "metadata": {},
   "outputs": [
    {
     "name": "stdout",
     "output_type": "stream",
     "text": [
      "12\n",
      "[4, 10, 18]\n"
     ]
    }
   ],
   "source": [
    "multiply = lambda a, b: a * b\n",
    "print(multiply(3, 4))\n",
    "\n",
    "list1 = [1, 2, 3]\n",
    "list2 = [4, 5, 6]\n",
    "products = list(map(lambda x, y: x * y, list1, list2))\n",
    "print(products)"
   ]
  },
  {
   "cell_type": "markdown",
   "id": "28f808e8",
   "metadata": {},
   "source": [
    "### 10. Lambda with map(), filter(), reduce()\n",
    "\n",
    "**Examples:**\n",
    "- `map()`: applies function to all items\n",
    "- `filter()`: filters items\n",
    "- `reduce()`: applies cumulative function\n",
    "\n",
    "**Code:**"
   ]
  },
  {
   "cell_type": "code",
   "execution_count": 10,
   "id": "611a98e2",
   "metadata": {},
   "outputs": [
    {
     "name": "stdout",
     "output_type": "stream",
     "text": [
      "['HELLO', 'WORLD']\n",
      "[1, 3, 5]\n",
      "120\n"
     ]
    }
   ],
   "source": [
    "from functools import reduce\n",
    "\n",
    "# map\n",
    "strings = ['hello', 'world']\n",
    "uppercased = list(map(lambda s: s.upper(), strings))\n",
    "print(uppercased)\n",
    "\n",
    "# filter\n",
    "numbers = [1, 2, 3, 4, 5]\n",
    "odds = list(filter(lambda x: x % 2 != 0, numbers))\n",
    "print(odds)\n",
    "\n",
    "# reduce\n",
    "product = reduce(lambda x, y: x * y, numbers)\n",
    "print(product)"
   ]
  }
 ],
 "metadata": {
  "kernelspec": {
   "display_name": "Python 3",
   "language": "python",
   "name": "python3"
  },
  "language_info": {
   "codemirror_mode": {
    "name": "ipython",
    "version": 3
   },
   "file_extension": ".py",
   "mimetype": "text/x-python",
   "name": "python",
   "nbconvert_exporter": "python",
   "pygments_lexer": "ipython3",
   "version": "3.11.9"
  }
 },
 "nbformat": 4,
 "nbformat_minor": 5
}
