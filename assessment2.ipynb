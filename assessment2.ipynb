{
 "cells": [
  {
   "cell_type": "markdown",
   "id": "ddd8288a",
   "metadata": {},
   "source": [
    "# Assessment 2"
   ]
  },
  {
   "cell_type": "markdown",
   "id": "3d5c6428",
   "metadata": {},
   "source": [
    "## Loop and Conditional statements"
   ]
  },
  {
   "cell_type": "markdown",
   "id": "f92b79c4",
   "metadata": {},
   "source": [
    "#### 1. How do `if-elif-else` statements work in Python? Provide an example where multiple conditions must be checked and explain the flow of control.\n",
    "   Coding Challenge:Write a function that takes a number as input and returns \"Positive\", \"Negative\", or \"Zero\" based on the input value.\n"
   ]
  },
  {
   "cell_type": "markdown",
   "id": "96b1b085",
   "metadata": {},
   "source": [
    "The if-elif-else structure allows checking multiple conditions in sequence. Python evaluates each condition from top to bottom. The first condition that evaluates to True gets executed, and the rest are skipped. If no condition matches, the else block is executed.\n"
   ]
  },
  {
   "cell_type": "code",
   "execution_count": 2,
   "id": "f2281b52",
   "metadata": {},
   "outputs": [
    {
     "name": "stdout",
     "output_type": "stream",
     "text": [
      "It is a Positive no\n"
     ]
    }
   ],
   "source": [
    "#Coding challenge\n",
    "def to_check(n):\n",
    "    if n<0:\n",
    "        print(\"It is a Negative no\")\n",
    "    elif n==0:\n",
    "        print(\"It is a Zero\")\n",
    "    else:\n",
    "        print(\"It is a Positive no\")\n",
    "\n",
    "n=int(input(\"Enter the number:\"))\n",
    "to_check(n)\n",
    "\n"
   ]
  },
  {
   "cell_type": "markdown",
   "id": "29c6392d",
   "metadata": {},
   "source": [
    "\n",
    "### 2.  What is the difference between `for` loops and `while` loops in terms of conditional checks? When would you prefer one over the other? \n",
    "   -  Coding Challenge:  Write a Python script to print all prime numbers between 1 and 100 using a `for` loop.\n"
   ]
  },
  {
   "cell_type": "markdown",
   "id": "81b4c1a9",
   "metadata": {},
   "source": [
    "for loops iterate over a sequence (like list, string, range).\n",
    "\n",
    "while loops execute as long as a condition remains true.\n",
    "\n",
    "Use case:\n",
    "\n",
    "Use for when the number of iterations is known.\n",
    "\n",
    "Use while when looping based on a condition."
   ]
  },
  {
   "cell_type": "code",
   "execution_count": 5,
   "id": "14cd4870",
   "metadata": {},
   "outputs": [
    {
     "name": "stdout",
     "output_type": "stream",
     "text": [
      "2 3 5 7 11 13 17 19 23 29 31 37 41 43 47 53 59 61 67 71 73 79 83 89 97 "
     ]
    }
   ],
   "source": [
    "for num in range(2, 101):\n",
    "    is_prime = True\n",
    "    for i in range(2, int(num ** 0.5) + 1):\n",
    "        if num % i == 0:\n",
    "            is_prime = False\n",
    "            break\n",
    "    if is_prime:\n",
    "        print(num, end=' ')\n",
    "      \n",
    "    "
   ]
  },
  {
   "cell_type": "markdown",
   "id": "3575db6e",
   "metadata": {},
   "source": [
    "### 3.  Explain how nested `if` statements work in Python. How can you avoid deep nesting to make your code more readable? \n",
    "   -  Coding Challenge:  Write a function that takes three numbers as input and returns the largest of the three using nested `if` statements.\n"
   ]
  },
  {
   "cell_type": "markdown",
   "id": "d7cb067a",
   "metadata": {},
   "source": [
    "Nested if means one if inside another. Deep nesting makes code harder to read.\n",
    "\n",
    "To avoid deep nesting: Use logical operators (and, or) or define helper functions\n",
    "\n"
   ]
  },
  {
   "cell_type": "code",
   "execution_count": 6,
   "id": "1a1025ef",
   "metadata": {},
   "outputs": [
    {
     "data": {
      "text/plain": [
       "(20, 'is the largest no')"
      ]
     },
     "execution_count": 6,
     "metadata": {},
     "output_type": "execute_result"
    }
   ],
   "source": [
    "def large_no(a,b,c):\n",
    "    if a>=b:\n",
    "        if a>=c:\n",
    "            return a ,\"is the largest no\"\n",
    "        else:\n",
    "             return c,\"is the largest no\"\n",
    "\n",
    "    else:\n",
    "        if b>=c:\n",
    "            return b,\"is the largest no\"\n",
    "        else:\n",
    "            return c,\"is the largest no\"\n",
    "\n",
    "large_no(10,15,20)\n",
    "    "
   ]
  },
  {
   "cell_type": "markdown",
   "id": "4d611b37",
   "metadata": {},
   "source": [
    "### 4.  What are the potential risks of using `break` in loops? How does it affect loop execution and what alternatives can you use? \n",
    "   -  Coding Challenge:  Write a Python program that reads numbers from the user until they input a negative number. The program should then print the sum of all positive numbers entered.\n"
   ]
  },
  {
   "cell_type": "markdown",
   "id": "c5ad5525",
   "metadata": {},
   "source": [
    "Using break can unexpectedly exit loops, leading to missed iterations. It can make code harder to understand or debug.\n",
    "\n",
    "Alternative: Use flags or proper loop conditions."
   ]
  },
  {
   "cell_type": "code",
   "execution_count": 7,
   "id": "f2256de6",
   "metadata": {},
   "outputs": [
    {
     "name": "stdout",
     "output_type": "stream",
     "text": [
      "Sum: 50\n"
     ]
    }
   ],
   "source": [
    "total = 0\n",
    "while True:\n",
    "    num = int(input(\"Enter a number (negative to stop): \"))\n",
    "    if num < 0:\n",
    "        break\n",
    "    total += num\n",
    "print(\"Sum:\", total)\n"
   ]
  },
  {
   "cell_type": "markdown",
   "id": "e3e71682",
   "metadata": {},
   "source": [
    "### 5.  How does the `else` clause in a loop work, and how does it differ from the `else` in conditional statements? \n",
    "   -  Coding Challenge:  Write a function that searches for a specific element in a list using a `for` loop. If the element is found, return its index; if not, return -1 using the `else` clause in the loop.\n"
   ]
  },
  {
   "cell_type": "markdown",
   "id": "e154c9d9",
   "metadata": {},
   "source": [
    "In loops, else runs only if the loop wasn’t exited using break.\n",
    "In conditional ,When all if/elif conditions are false"
   ]
  },
  {
   "cell_type": "code",
   "execution_count": 12,
   "id": "770f2bfb",
   "metadata": {},
   "outputs": [
    {
     "data": {
      "text/plain": [
       "5"
      ]
     },
     "execution_count": 12,
     "metadata": {},
     "output_type": "execute_result"
    }
   ],
   "source": [
    "def find_index(lst, target):\n",
    "    for i in range(len(lst)):\n",
    "        if lst[i] == target:\n",
    "            return i\n",
    "    else:\n",
    "        return -1\n",
    "    \n",
    "lst=[1,2,3,4,5,6]\n",
    "find_index(lst,6)\n"
   ]
  },
  {
   "cell_type": "markdown",
   "id": "051eedac",
   "metadata": {},
   "source": [
    "### 6.  What is a common pitfall when using floating-point numbers in conditional statements? How can you avoid it? \n",
    "   -  Coding Challenge:  Write a Python function that compares two floating-point numbers and returns `True` if they are approximately equal, considering a small tolerance value.\n"
   ]
  },
  {
   "cell_type": "markdown",
   "id": "ba35d2df",
   "metadata": {},
   "source": [
    "Floating-point numbers may have precision issues (e.g., 0.1 + 0.2 != 0.3). Avoid direct comparisons.\n",
    "\n",
    "Use abs() with tolerance."
   ]
  },
  {
   "cell_type": "code",
   "execution_count": 18,
   "id": "0fc0fda3",
   "metadata": {},
   "outputs": [
    {
     "data": {
      "text/plain": [
       "False"
      ]
     },
     "execution_count": 18,
     "metadata": {},
     "output_type": "execute_result"
    }
   ],
   "source": [
    "def approx_equal(a, b, tol=1e-9):\n",
    "    return abs(a - b) < tol\n",
    "\n",
    "approx_equal(0.1,0.8,0.3)"
   ]
  },
  {
   "cell_type": "markdown",
   "id": "7cba825b",
   "metadata": {},
   "source": [
    "### 7.  How can you combine `for` loops and `if` statements to filter and process data in Python? \n",
    "   -  Coding Challenge:  Given a list of integers, write a Python program that uses a `for` loop and `if` statements to create a new list containing only the even numbers.\n"
   ]
  },
  {
   "cell_type": "markdown",
   "id": "4f4aa263",
   "metadata": {},
   "source": [
    "We can use for to iterate and if to select items."
   ]
  },
  {
   "cell_type": "code",
   "execution_count": null,
   "id": "12a7a8a6",
   "metadata": {},
   "outputs": [],
   "source": [
    "lst = [1, 2, 3, 4, 5]\n",
    "lst1 = []\n",
    "\n",
    "for i in lst:\n",
    "    if i%2==0:\n",
    "        lst1.append(i)\n",
    "\n",
    "if not lst1:\n",
    "    print(\"List contains no even number.\")\n",
    "else:\n",
    "    print(\"Even numbers:\", lst1)\n"
   ]
  },
  {
   "cell_type": "markdown",
   "id": "7a818f82",
   "metadata": {},
   "source": [
    "### 8.  Discuss the concept of short-circuit evaluation in Python. How does it affect the performance of conditional statements? \n",
    "   -  Coding Challenge:  Write a function that takes three boolean values and returns `True` if at least two of them are `True`, using short-circuit evaluation.\n"
   ]
  },
  {
   "cell_type": "markdown",
   "id": "df88d91b",
   "metadata": {},
   "source": [
    "Python evaluates logical expressions left to right and stops as soon as result is known.\n",
    "\n",
    "Benefits: Faster execution and avoids unnecessary computation."
   ]
  },
  {
   "cell_type": "code",
   "execution_count": null,
   "id": "a57bbdc3",
   "metadata": {},
   "outputs": [
    {
     "data": {
      "text/plain": [
       "True"
      ]
     },
     "execution_count": 34,
     "metadata": {},
     "output_type": "execute_result"
    }
   ],
   "source": [
    "def at_least_two_true(a, b, c):\n",
    "    return (a and b) or (a and c) or (b and c)\n",
    "print(at_least_two_true(True, True, False))   \n",
    "print(at_least_two_true(True, False, True))\n",
    "\n"
   ]
  },
  {
   "cell_type": "markdown",
   "id": "0f5be276",
   "metadata": {},
   "source": [
    "### 9.  Explain how the `continue` statement works in a loop. What are some scenarios where using `continue` is more beneficial than restructuring the loop? \n",
    "   -  Coding Challenge:  Write a Python program that iterates through a list of numbers and prints only those numbers that are divisible by 3, using the `continue` statement.\n"
   ]
  },
  {
   "cell_type": "markdown",
   "id": "9be86680",
   "metadata": {},
   "source": [
    "continue skips the rest of the current iteration and moves to the next one.\n",
    "\n",
    "Use case: Skip processing for certain values."
   ]
  },
  {
   "cell_type": "code",
   "execution_count": 37,
   "id": "ae69b1a7",
   "metadata": {},
   "outputs": [
    {
     "name": "stdout",
     "output_type": "stream",
     "text": [
      "9\n",
      "12\n",
      "18\n",
      "21\n",
      "30\n"
     ]
    }
   ],
   "source": [
    "numbers = [5, 9, 12, 18, 21, 25, 30]\n",
    "for num in numbers:\n",
    "    if num % 3 != 0:\n",
    "        continue\n",
    "    print(num)\n"
   ]
  },
  {
   "cell_type": "markdown",
   "id": "20ef0757",
   "metadata": {},
   "source": [
    "### 10.  How can you use list comprehensions in combination with conditional statements to make your code more concise? \n",
    "    -  Coding Challenge:  Write a list comprehension that generates a list of squares of all even numbers between 1 and 20.\n"
   ]
  },
  {
   "cell_type": "markdown",
   "id": "b3cad33d",
   "metadata": {},
   "source": [
    "List comprehensions make code concise and readable\n",
    "format of list comphrehension:[expression for item in iterable if condition]\n",
    "\n"
   ]
  },
  {
   "cell_type": "code",
   "execution_count": 38,
   "id": "692856b1",
   "metadata": {},
   "outputs": [
    {
     "name": "stdout",
     "output_type": "stream",
     "text": [
      "[4, 16, 36, 64, 100, 144, 196, 256, 324, 400]\n"
     ]
    }
   ],
   "source": [
    "squares = [x**2 for x in range(1, 21) if x % 2 == 0]\n",
    "print(squares)\n"
   ]
  },
  {
   "cell_type": "code",
   "execution_count": null,
   "id": "12294e65",
   "metadata": {},
   "outputs": [],
   "source": []
  }
 ],
 "metadata": {
  "kernelspec": {
   "display_name": "Python 3",
   "language": "python",
   "name": "python3"
  },
  "language_info": {
   "codemirror_mode": {
    "name": "ipython",
    "version": 3
   },
   "file_extension": ".py",
   "mimetype": "text/x-python",
   "name": "python",
   "nbconvert_exporter": "python",
   "pygments_lexer": "ipython3",
   "version": "3.11.9"
  }
 },
 "nbformat": 4,
 "nbformat_minor": 5
}
