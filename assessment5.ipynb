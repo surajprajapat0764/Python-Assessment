{
 "cells": [
  {
   "cell_type": "markdown",
   "id": "fc4b04a1",
   "metadata": {},
   "source": [
    "# Assignment 5"
   ]
  },
  {
   "cell_type": "markdown",
   "id": "eca3e5e8",
   "metadata": {},
   "source": [
    "### 1. What is the difference between a class and an object in Python?"
   ]
  },
  {
   "cell_type": "markdown",
   "id": "5c469a02",
   "metadata": {},
   "source": [
    "A **class** is a blueprint for creating objects. It defines attributes and methods that the objects created from the class will have.\n",
    "\n",
    "An **object** is an instance of a class. When a class is defined, no memory is allocated until an object of that class is created.\n",
    "\n",
    "Example: Class = Book, Object = my_book = Book(\"Title\", \"Author\", 2024)\n"
   ]
  },
  {
   "cell_type": "code",
   "execution_count": null,
   "id": "cb313c93",
   "metadata": {},
   "outputs": [
    {
     "name": "stdout",
     "output_type": "stream",
     "text": [
      "1984 George Orwell 1949\n"
     ]
    }
   ],
   "source": [
    "class Book:\n",
    "    def __init__(self, title, author, year_published):\n",
    "        self.title = title\n",
    "        self.author = author\n",
    "        self.year_published = year_published\n",
    "\n",
    "book1 = Book(\"1984\", \"George Orwell\", 1949)\n",
    "print(book1.title, book1.author, book1.year_published)\n"
   ]
  },
  {
   "cell_type": "markdown",
   "id": "6ffd087d",
   "metadata": {},
   "source": [
    "### 2. Explain the concept of inheritance in Python."
   ]
  },
  {
   "cell_type": "markdown",
   "id": "f75c94a5",
   "metadata": {},
   "source": [
    "**Inheritance** allows a class (child) to inherit the properties and methods of another class (parent). It promotes code reuse.\n",
    "\n",
    "Pitfalls: Overriding too many methods can make code harder to understand.\n"
   ]
  },
  {
   "cell_type": "code",
   "execution_count": 2,
   "id": "8aa97696",
   "metadata": {},
   "outputs": [
    {
     "name": "stdout",
     "output_type": "stream",
     "text": [
      "Car is driving\n",
      "Bike is riding\n"
     ]
    }
   ],
   "source": [
    "class Vehicle:\n",
    "    def move(self):\n",
    "        print(\"Vehicle is moving\")\n",
    "\n",
    "class Car(Vehicle):\n",
    "    def move(self):\n",
    "        print(\"Car is driving\")\n",
    "\n",
    "class Bike(Vehicle):\n",
    "    def move(self):\n",
    "        print(\"Bike is riding\")\n",
    "\n",
    "car = Car()\n",
    "bike = Bike()\n",
    "car.move()\n",
    "bike.move()\n"
   ]
  },
  {
   "cell_type": "markdown",
   "id": "40e92ed2",
   "metadata": {},
   "source": [
    "### 3. What is polymorphism?"
   ]
  },
  {
   "cell_type": "markdown",
   "id": "07f46d6a",
   "metadata": {},
   "source": [
    "**Polymorphism** allows the same method name to behave differently based on the object calling it.\n",
    "\n",
    "- **Overriding** is supported in Python (in subclasses).\n",
    "- **Overloading** is not directly supported but can be mimicked using default/variable arguments.\n"
   ]
  },
  {
   "cell_type": "code",
   "execution_count": 3,
   "id": "d08f0409",
   "metadata": {},
   "outputs": [
    {
     "name": "stdout",
     "output_type": "stream",
     "text": [
      "Boat is sailing\n",
      "Airplane is flying\n"
     ]
    }
   ],
   "source": [
    "class Boat:\n",
    "    def move(self):\n",
    "        print(\"Boat is sailing\")\n",
    "\n",
    "class Airplane:\n",
    "    def move(self):\n",
    "        print(\"Airplane is flying\")\n",
    "\n",
    "def move_vehicle(vehicle):\n",
    "    vehicle.move()\n",
    "\n",
    "move_vehicle(Boat())\n",
    "move_vehicle(Airplane())\n"
   ]
  },
  {
   "cell_type": "markdown",
   "id": "5147322c",
   "metadata": {},
   "source": [
    "### 4. Class methods vs Static methods vs Instance methods"
   ]
  },
  {
   "cell_type": "markdown",
   "id": "13424e57",
   "metadata": {},
   "source": [
    "- **Instance Method**: Accesses instance (self) and can modify object state.\n",
    "- **Class Method**: Uses `@classmethod`, accesses class (cls), used for factory methods.\n",
    "- **Static Method**: Uses `@staticmethod`, does not access class or instance.\n"
   ]
  },
  {
   "cell_type": "code",
   "execution_count": 4,
   "id": "18c6aa48",
   "metadata": {},
   "outputs": [
    {
     "name": "stdout",
     "output_type": "stream",
     "text": [
      "20\n",
      "21\n"
     ]
    }
   ],
   "source": [
    "class Calculator:\n",
    "    @staticmethod\n",
    "    def multiply(a, b):\n",
    "        return a * b\n",
    "\n",
    "    @classmethod\n",
    "    def from_values(cls, values):\n",
    "        return cls.multiply(values[0], values[1])\n",
    "\n",
    "print(Calculator.multiply(4, 5))\n",
    "print(Calculator.from_values([3, 7]))\n"
   ]
  },
  {
   "cell_type": "markdown",
   "id": "9f2dbe90",
   "metadata": {},
   "source": [
    "### 5. What is encapsulation?"
   ]
  },
  {
   "cell_type": "markdown",
   "id": "f03463a3",
   "metadata": {},
   "source": [
    "Encapsulation restricts direct access to variables and methods. Python supports:\n",
    "- Public: accessible everywhere.\n",
    "- Protected (_var): suggestive only.\n",
    "- Private (__var): name mangled.\n"
   ]
  },
  {
   "cell_type": "code",
   "execution_count": null,
   "id": "b323fd4e",
   "metadata": {},
   "outputs": [
    {
     "name": "stdout",
     "output_type": "stream",
     "text": [
      "Name: Alice, Age: 30\n"
     ]
    }
   ],
   "source": [
    "class Person:\n",
    "    def __init__(self, name, age):\n",
    "        self.__name = name\n",
    "        self.__age = age\n",
    "\n",
    "    def get_info(self):\n",
    "        return f\"Name: {self.__name}, Age: {self.__age}\"\n",
    "\n",
    "    def set_info(self, name, age):\n",
    "        self.__name = name\n",
    "        self.__age = age\n",
    "\n",
    "p = Person(\"Aman\", 30)\n",
    "print(p.get_info())\n",
    "# print(p.__name)  # This will raise an AttributeError\n"
   ]
  },
  {
   "cell_type": "markdown",
   "id": "97c30f05",
   "metadata": {},
   "source": [
    "### 6. What is __init__ method?"
   ]
  },
  {
   "cell_type": "markdown",
   "id": "6b49d565",
   "metadata": {},
   "source": [
    "The `__init__` method initializes an object’s state. It runs automatically when a new object is created.\n"
   ]
  },
  {
   "cell_type": "code",
   "execution_count": 6,
   "id": "2490518a",
   "metadata": {},
   "outputs": [
    {
     "name": "stdout",
     "output_type": "stream",
     "text": [
      "Laptop 50000\n"
     ]
    }
   ],
   "source": [
    "class Product:\n",
    "    def __init__(self, name, price):\n",
    "        self.name = name\n",
    "        self.price = price\n",
    "\n",
    "product = Product(\"Laptop\", 50000)\n",
    "print(product.name, product.price)\n"
   ]
  },
  {
   "cell_type": "markdown",
   "id": "6a285873",
   "metadata": {},
   "source": [
    "### 7. What is multiple inheritance and MRO?"
   ]
  },
  {
   "cell_type": "markdown",
   "id": "84cdd974",
   "metadata": {},
   "source": [
    "Python supports multiple inheritance. MRO (Method Resolution Order) determines the order in which classes are searched for a method.\n",
    "\n",
    "Use `super()` to respect MRO and avoid calling the same method multiple times.\n"
   ]
  },
  {
   "cell_type": "code",
   "execution_count": 7,
   "id": "347136f3",
   "metadata": {},
   "outputs": [
    {
     "name": "stdout",
     "output_type": "stream",
     "text": [
      "Operating appliance\n",
      "Operating Smart Fridge\n"
     ]
    }
   ],
   "source": [
    "class Appliance:\n",
    "    def operate(self):\n",
    "        print(\"Operating appliance\")\n",
    "\n",
    "class Electronic:\n",
    "    def operate(self):\n",
    "        print(\"Operating electronic\")\n",
    "\n",
    "class SmartFridge(Appliance, Electronic):\n",
    "    def operate(self):\n",
    "        super().operate()\n",
    "        print(\"Operating Smart Fridge\")\n",
    "\n",
    "sf = SmartFridge()\n",
    "sf.operate()\n"
   ]
  },
  {
   "cell_type": "markdown",
   "id": "3d72b98b",
   "metadata": {},
   "source": [
    "### 8. What are special/magic methods?"
   ]
  },
  {
   "cell_type": "markdown",
   "id": "4223bd51",
   "metadata": {},
   "source": [
    "Special methods (e.g., `__init__`, `__str__`, `__eq__`, `__lt__`) allow customization of class behavior with built-in operators/functions.\n"
   ]
  },
  {
   "cell_type": "code",
   "execution_count": 8,
   "id": "4d8b4b00",
   "metadata": {},
   "outputs": [
    {
     "name": "stdout",
     "output_type": "stream",
     "text": [
      "False\n",
      "True\n"
     ]
    }
   ],
   "source": [
    "class Book:\n",
    "    def __init__(self, title, year_published):\n",
    "        self.title = title\n",
    "        self.year_published = year_published\n",
    "\n",
    "    def __eq__(self, other):\n",
    "        return self.year_published == other.year_published\n",
    "\n",
    "    def __lt__(self, other):\n",
    "        return self.year_published < other.year_published\n",
    "\n",
    "b1 = Book(\"A\", 2000)\n",
    "b2 = Book(\"B\", 2005)\n",
    "print(b1 == b2)\n",
    "print(b1 < b2)\n"
   ]
  },
  {
   "cell_type": "markdown",
   "id": "eb3174a0",
   "metadata": {},
   "source": [
    "### 9. Composition vs Inheritance"
   ]
  },
  {
   "cell_type": "markdown",
   "id": "1ca4c21a",
   "metadata": {},
   "source": [
    "**Composition**: Has-a relationship. Objects are built using other objects.\n",
    "**Inheritance**: Is-a relationship.\n",
    "\n",
    "Use composition when reuse of behavior is needed without modifying the parent class.\n"
   ]
  },
  {
   "cell_type": "code",
   "execution_count": 9,
   "id": "1f7eb0f1",
   "metadata": {},
   "outputs": [
    {
     "name": "stdout",
     "output_type": "stream",
     "text": [
      "Engine started\n",
      "Truck is running\n"
     ]
    }
   ],
   "source": [
    "class Engine:\n",
    "    def start(self):\n",
    "        print(\"Engine started\")\n",
    "\n",
    "class Truck:\n",
    "    def __init__(self):\n",
    "        self.engine = Engine()\n",
    "\n",
    "    def start_truck(self):\n",
    "        self.engine.start()\n",
    "        print(\"Truck is running\")\n",
    "\n",
    "t = Truck()\n",
    "t.start_truck()\n"
   ]
  },
  {
   "cell_type": "markdown",
   "id": "4a791182",
   "metadata": {},
   "source": [
    "### 10. Property decorators"
   ]
  },
  {
   "cell_type": "markdown",
   "id": "df99ab5d",
   "metadata": {},
   "source": [
    "@property allows defining methods that can be accessed like attributes, useful for controlled access.\n"
   ]
  },
  {
   "cell_type": "code",
   "execution_count": 10,
   "id": "4aa780a4",
   "metadata": {},
   "outputs": [
    {
     "name": "stdout",
     "output_type": "stream",
     "text": [
      "Diameter: 10\n",
      "Area: 78.54\n"
     ]
    }
   ],
   "source": [
    "import math\n",
    "\n",
    "class Circle:\n",
    "    def __init__(self, radius):\n",
    "        self._radius = radius\n",
    "\n",
    "    @property\n",
    "    def diameter(self):\n",
    "        return self._radius * 2\n",
    "\n",
    "    @property\n",
    "    def area(self):\n",
    "        return math.pi * self._radius ** 2\n",
    "\n",
    "circle = Circle(5)\n",
    "print(\"Diameter:\", circle.diameter)\n",
    "print(\"Area:\", round(circle.area, 2))\n"
   ]
  }
 ],
 "metadata": {
  "kernelspec": {
   "display_name": "Python 3",
   "language": "python",
   "name": "python3"
  },
  "language_info": {
   "codemirror_mode": {
    "name": "ipython",
    "version": 3
   },
   "file_extension": ".py",
   "mimetype": "text/x-python",
   "name": "python",
   "nbconvert_exporter": "python",
   "pygments_lexer": "ipython3",
   "version": "3.11.9"
  }
 },
 "nbformat": 4,
 "nbformat_minor": 5
}
